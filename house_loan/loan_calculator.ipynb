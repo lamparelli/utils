{
 "cells": [
  {
   "cell_type": "code",
   "execution_count": 1,
   "id": "31badd99",
   "metadata": {},
   "outputs": [
    {
     "name": "stdout",
     "output_type": "stream",
     "text": [
      "Monthly fee: 311.95€\n",
      "Total cost: 112303.11€\n"
     ]
    }
   ],
   "source": [
    "def calculate_payments(house_cost, loan_years=30, tan=2.40, return_monthly_payment=True):\n",
    "    \"\"\"Calculates the house loan cost\n",
    "\n",
    "    Args:\n",
    "        house_cost (init): The cost of the house\n",
    "        loan_years (int, optional): The amount of years for the loan. Defaults to 30\n",
    "        tan (float, optional): The current TAN rate. Defaults to 2.40\n",
    "        return_monthly_payment (bool, optional): Whether to return the monthly fee for the loan (if True) or the total paid considering the TAN interests (if False). Defaults to True\n",
    "\n",
    "    Returns:\n",
    "        int: The loan amount per month/total (based on return_monthly_payment)\n",
    "    \"\"\"\n",
    "    monthly_interest_rate = tan / 100 / 12  \n",
    "    total_payments = loan_years * 12\n",
    "    monthly_payment = house_cost * (monthly_interest_rate * (1 + monthly_interest_rate) ** total_payments) / ((1 + monthly_interest_rate) ** total_payments - 1)\n",
    "    total_paid = monthly_payment * total_payments\n",
    "\n",
    "    if return_monthly_payment:\n",
    "        return monthly_payment\n",
    "    else:\n",
    "        return total_paid\n",
    "    \n",
    "house_cost=80000\n",
    "loan_years=30\n",
    "tan=2.40\n",
    "monthly_fee = calculate_payments(house_cost=house_cost, loan_years=loan_years, tan=tan, return_monthly_payment=True)\n",
    "total_cost = calculate_payments(house_cost=house_cost, loan_years=loan_years, tan=tan, return_monthly_payment=False)\n",
    "print(f\"Monthly fee: {monthly_fee:.2f}€\")\n",
    "print(f\"Total cost: {total_cost:.2f}€\")"
   ]
  }
 ],
 "metadata": {
  "kernelspec": {
   "display_name": "base",
   "language": "python",
   "name": "python3"
  },
  "language_info": {
   "codemirror_mode": {
    "name": "ipython",
    "version": 3
   },
   "file_extension": ".py",
   "mimetype": "text/x-python",
   "name": "python",
   "nbconvert_exporter": "python",
   "pygments_lexer": "ipython3",
   "version": "3.12.9"
  }
 },
 "nbformat": 4,
 "nbformat_minor": 5
}
