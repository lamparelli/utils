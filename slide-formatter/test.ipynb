{
 "cells": [
  {
   "cell_type": "code",
   "execution_count": null,
   "id": "699e2e37",
   "metadata": {},
   "outputs": [],
   "source": [
    "import os\n",
    "\n",
    "import pdf_utils"
   ]
  },
  {
   "cell_type": "code",
   "execution_count": null,
   "id": "7cfa01fc",
   "metadata": {},
   "outputs": [],
   "source": [
    "folder = 'C:/Users/ivanl/Downloads/big-data-work/'\n",
    "files = os.listdir(folder)"
   ]
  },
  {
   "cell_type": "code",
   "execution_count": null,
   "id": "974125a3",
   "metadata": {},
   "outputs": [],
   "source": [
    "for file in files:\n",
    "    path = folder + file\n",
    "    print(file)\n",
    "    pdf_utils.add_write_permissions(path)\n",
    "    pdf_utils.remove_text(path, 'Guglielmo Marconi')\n",
    "    print('\\n------\\n')"
   ]
  }
 ],
 "metadata": {
  "kernelspec": {
   "display_name": "venv",
   "language": "python",
   "name": "python3"
  },
  "language_info": {
   "codemirror_mode": {
    "name": "ipython",
    "version": 3
   },
   "file_extension": ".py",
   "mimetype": "text/x-python",
   "name": "python",
   "nbconvert_exporter": "python",
   "pygments_lexer": "ipython3",
   "version": "3.13.5"
  }
 },
 "nbformat": 4,
 "nbformat_minor": 5
}
